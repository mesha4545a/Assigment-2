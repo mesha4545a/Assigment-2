{
  "nbformat": 4,
  "nbformat_minor": 0,
  "metadata": {
    "colab": {
      "name": "Untitled10.ipynb",
      "provenance": [],
      "authorship_tag": "ABX9TyPhVRwIp0MT0FK3WuW+77Gl",
      "include_colab_link": true
    },
    "kernelspec": {
      "name": "python3",
      "display_name": "Python 3"
    }
  },
  "cells": [
    {
      "cell_type": "markdown",
      "metadata": {
        "id": "view-in-github",
        "colab_type": "text"
      },
      "source": [
        "<a href=\"https://colab.research.google.com/github/mesha4545a/Assigment-2/blob/master/Untitled10.ipynb\" target=\"_parent\"><img src=\"https://colab.research.google.com/assets/colab-badge.svg\" alt=\"Open In Colab\"/></a>"
      ]
    },
    {
      "cell_type": "code",
      "metadata": {
        "colab": {
          "base_uri": "https://localhost:8080/"
        },
        "id": "OaOgXzkl6xiO",
        "outputId": "e72ae9af-fed5-497b-a50f-308c167b5934"
      },
      "source": [
        "dict = {\"country\": [\"Brazil\", \"Russia\", \"India\", \"China\", \"South Africa\"],\r\n",
        "       \"capital\": [\"Brasilia\", \"Moscow\", \"New Dehli\", \"Beijing\", \"Pretoria\"],\r\n",
        "       \"area\": [8.516, 17.10, 3.286, 9.597, 1.221],\r\n",
        "       \"population\": [200.4, 143.5, 1252, 1357, 52.98] }\r\n",
        "\r\n",
        "import pandas as pd\r\n",
        "brics = pd.DataFrame(dict)\r\n",
        "print(brics)"
      ],
      "execution_count": 1,
      "outputs": [
        {
          "output_type": "stream",
          "text": [
            "        country    capital    area  population\n",
            "0        Brazil   Brasilia   8.516      200.40\n",
            "1        Russia     Moscow  17.100      143.50\n",
            "2         India  New Dehli   3.286     1252.00\n",
            "3         China    Beijing   9.597     1357.00\n",
            "4  South Africa   Pretoria   1.221       52.98\n"
          ],
          "name": "stdout"
        }
      ]
    },
    {
      "cell_type": "code",
      "metadata": {
        "colab": {
          "base_uri": "https://localhost:8080/"
        },
        "id": "F7j8vZ5_66cz",
        "outputId": "3e99133c-0f2b-47d1-f9e4-9e8a17437bff"
      },
      "source": [
        "brics.index = [\"BR\", \"RU\", \"IN\", \"CH\", \"SA\"]\r\n",
        "print(brics)"
      ],
      "execution_count": 2,
      "outputs": [
        {
          "output_type": "stream",
          "text": [
            "         country    capital    area  population\n",
            "BR        Brazil   Brasilia   8.516      200.40\n",
            "RU        Russia     Moscow  17.100      143.50\n",
            "IN         India  New Dehli   3.286     1252.00\n",
            "CH         China    Beijing   9.597     1357.00\n",
            "SA  South Africa   Pretoria   1.221       52.98\n"
          ],
          "name": "stdout"
        }
      ]
    },
    {
      "cell_type": "code",
      "metadata": {
        "colab": {
          "base_uri": "https://localhost:8080/"
        },
        "id": "sUdyPebt7Mmg",
        "outputId": "940dd113-9217-4436-9b1c-9419cd2e1026"
      },
      "source": [
        "# Import pandas as pd\r\n",
        "import pandas as pd\r\n",
        "\r\n",
        "# Import the cars.csv data: cars\r\n",
        "cars = pd.read_csv('https://raw.githubusercontent.com/wblakecannon/DataCamp/master/02-intermediate-python-for-data-science/4-loops/cars.csv')\r\n",
        "\r\n",
        "# Print out cars\r\n",
        "print(cars)"
      ],
      "execution_count": 13,
      "outputs": [
        {
          "output_type": "stream",
          "text": [
            "  Unnamed: 0  cars_per_cap        country  drives_right\n",
            "0         US           809  United States          True\n",
            "1        AUS           731      Australia         False\n",
            "2        JAP           588          Japan         False\n",
            "3         IN            18          India         False\n",
            "4         RU           200         Russia          True\n",
            "5        MOR            70        Morocco          True\n",
            "6         EG            45          Egypt          True\n"
          ],
          "name": "stdout"
        }
      ]
    },
    {
      "cell_type": "code",
      "metadata": {
        "colab": {
          "base_uri": "https://localhost:8080/"
        },
        "id": "3sg5xZmp8q1r",
        "outputId": "27962386-dcc1-4578-fc83-3fd3314aa575"
      },
      "source": [
        "# Import pandas and cars.csv\r\n",
        "import pandas as pd\r\n",
        "cars = pd.read_csv('https://raw.githubusercontent.com/wblakecannon/DataCamp/master/02-intermediate-python-for-data-science/4-loops/cars.csv', index_col = 0)\r\n",
        "\r\n",
        "\r\n",
        "# Print out country column as Pandas Series\r\n",
        "print(cars['cars_per_cap'])\r\n",
        "\r\n",
        "# Print out country column as Pandas DataFrame\r\n",
        "print(cars[['cars_per_cap']])\r\n",
        "\r\n",
        "# Print out DataFrame with country and drives_right columns\r\n",
        "print(cars[['cars_per_cap', 'country']])"
      ],
      "execution_count": 16,
      "outputs": [
        {
          "output_type": "stream",
          "text": [
            "US     809\n",
            "AUS    731\n",
            "JAP    588\n",
            "IN      18\n",
            "RU     200\n",
            "MOR     70\n",
            "EG      45\n",
            "Name: cars_per_cap, dtype: int64\n",
            "     cars_per_cap\n",
            "US            809\n",
            "AUS           731\n",
            "JAP           588\n",
            "IN             18\n",
            "RU            200\n",
            "MOR            70\n",
            "EG             45\n",
            "     cars_per_cap        country\n",
            "US            809  United States\n",
            "AUS           731      Australia\n",
            "JAP           588          Japan\n",
            "IN             18          India\n",
            "RU            200         Russia\n",
            "MOR            70        Morocco\n",
            "EG             45          Egypt\n"
          ],
          "name": "stdout"
        }
      ]
    },
    {
      "cell_type": "code",
      "metadata": {
        "colab": {
          "base_uri": "https://localhost:8080/"
        },
        "id": "1sY1b5518wI0",
        "outputId": "0910b762-ecf5-4273-cb0f-1d30c2d931ea"
      },
      "source": [
        "# Import cars data\r\n",
        "import pandas as pd\r\n",
        "cars = pd.read_csv('https://raw.githubusercontent.com/wblakecannon/DataCamp/master/02-intermediate-python-for-data-science/4-loops/cars.csv', index_col = 0)\r\n",
        "print(cars)\r\n",
        "\r\n",
        "# Print out first 4 observations\r\n",
        "print(cars[0:4])\r\n",
        "\r\n",
        "# Print out fifth and sixth observation\r\n",
        "print(cars[4:6])"
      ],
      "execution_count": 17,
      "outputs": [
        {
          "output_type": "stream",
          "text": [
            "     cars_per_cap        country  drives_right\n",
            "US            809  United States          True\n",
            "AUS           731      Australia         False\n",
            "JAP           588          Japan         False\n",
            "IN             18          India         False\n",
            "RU            200         Russia          True\n",
            "MOR            70        Morocco          True\n",
            "EG             45          Egypt          True\n",
            "     cars_per_cap        country  drives_right\n",
            "US            809  United States          True\n",
            "AUS           731      Australia         False\n",
            "JAP           588          Japan         False\n",
            "IN             18          India         False\n",
            "     cars_per_cap  country  drives_right\n",
            "RU            200   Russia          True\n",
            "MOR            70  Morocco          True\n"
          ],
          "name": "stdout"
        }
      ]
    },
    {
      "cell_type": "code",
      "metadata": {
        "colab": {
          "base_uri": "https://localhost:8080/"
        },
        "id": "UoWhlXba9AbL",
        "outputId": "bd8e6c4c-5f7a-474f-8611-2e982c52d977"
      },
      "source": [
        "# Import cars data\r\n",
        "import pandas as pd\r\n",
        "cars = pd.read_csv('https://raw.githubusercontent.com/wblakecannon/DataCamp/master/02-intermediate-python-for-data-science/4-loops/cars.csv', index_col = 0)\r\n",
        "\r\n",
        "# Print out observation for Japan\r\n",
        "print(cars.iloc[2])\r\n",
        "\r\n",
        "# Print out observations for Australia and Egypt\r\n",
        "print(cars.loc[['AUS', 'EG']])"
      ],
      "execution_count": 18,
      "outputs": [
        {
          "output_type": "stream",
          "text": [
            "cars_per_cap      588\n",
            "country         Japan\n",
            "drives_right    False\n",
            "Name: JAP, dtype: object\n",
            "     cars_per_cap    country  drives_right\n",
            "AUS           731  Australia         False\n",
            "EG             45      Egypt          True\n"
          ],
          "name": "stdout"
        }
      ]
    },
    {
      "cell_type": "code",
      "metadata": {
        "colab": {
          "base_uri": "https://localhost:8080/"
        },
        "id": "dK48BPtD9MHc",
        "outputId": "ffb7948d-138d-45cc-e361-1e1ac9096883"
      },
      "source": [
        "import pandas as pd\r\n",
        "cars = pd.read_csv('https://raw.githubusercontent.com/wblakecannon/DataCamp/master/02-intermediate-python-for-data-science/4-loops/cars.csv', index_col = 2)\r\n",
        "print(cars)\r\n",
        "print(\"_____________________\")\r\n",
        "print(cars.iloc[5])\r\n",
        "print(\"_____________________\")\r\n",
        "\r\n",
        "print(cars.loc[['Australia','Morocco']])"
      ],
      "execution_count": 34,
      "outputs": [
        {
          "output_type": "stream",
          "text": [
            "              Unnamed: 0  cars_per_cap  drives_right\n",
            "country                                             \n",
            "United States         US           809          True\n",
            "Australia            AUS           731         False\n",
            "Japan                JAP           588         False\n",
            "India                 IN            18         False\n",
            "Russia                RU           200          True\n",
            "Morocco              MOR            70          True\n",
            "Egypt                 EG            45          True\n",
            "_____________________\n",
            "Unnamed: 0       MOR\n",
            "cars_per_cap      70\n",
            "drives_right    True\n",
            "Name: Morocco, dtype: object\n",
            "_____________________\n",
            "          Unnamed: 0  cars_per_cap  drives_right\n",
            "country                                         \n",
            "Australia        AUS           731         False\n",
            "Morocco          MOR            70          True\n"
          ],
          "name": "stdout"
        }
      ]
    }
  ]
}