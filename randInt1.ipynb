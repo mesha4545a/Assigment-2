{
  "nbformat": 4,
  "nbformat_minor": 0,
  "metadata": {
    "colab": {
      "name": "randInt1.ipynb",
      "provenance": [],
      "authorship_tag": "ABX9TyOBi2IUyDKuJgiMSXzl6H7t",
      "include_colab_link": true
    },
    "kernelspec": {
      "name": "python3",
      "display_name": "Python 3"
    }
  },
  "cells": [
    {
      "cell_type": "markdown",
      "metadata": {
        "id": "view-in-github",
        "colab_type": "text"
      },
      "source": [
        "<a href=\"https://colab.research.google.com/github/mesha4545a/Assigment-2/blob/master/randInt1.ipynb\" target=\"_parent\"><img src=\"https://colab.research.google.com/assets/colab-badge.svg\" alt=\"Open In Colab\"/></a>"
      ]
    },
    {
      "cell_type": "code",
      "metadata": {
        "id": "PZZil98T7HvI"
      },
      "source": [
        "import random\r\n",
        "def randInt(min=  0 , max= 100  ):\r\n",
        "  #if max != 1:\r\n",
        "    #num = random.random() * max + min \r\n",
        "    #return num\r\n",
        "  if min != 0:\r\n",
        "      num1 = random.random() * (max-min) + min\r\n",
        "      return round(num1)\r\n",
        "  if min == 0:\r\n",
        "    num = random.random() * max + min\r\n",
        "    return round(num)\r\n"
      ],
      "execution_count": 230,
      "outputs": []
    },
    {
      "cell_type": "code",
      "metadata": {
        "colab": {
          "base_uri": "https://localhost:8080/"
        },
        "id": "bmTVbxp9KSzy",
        "outputId": "c76589df-e61a-449a-98bf-519eda94a52e"
      },
      "source": [
        "print(randInt())"
      ],
      "execution_count": 236,
      "outputs": [
        {
          "output_type": "stream",
          "text": [
            "79\n"
          ],
          "name": "stdout"
        }
      ]
    },
    {
      "cell_type": "code",
      "metadata": {
        "colab": {
          "base_uri": "https://localhost:8080/"
        },
        "id": "Q9tB0UF7KdYw",
        "outputId": "1933b6b7-c879-4441-d480-1e99054ee0fb"
      },
      "source": [
        "print(randInt(max=50)) "
      ],
      "execution_count": 244,
      "outputs": [
        {
          "output_type": "stream",
          "text": [
            "33\n"
          ],
          "name": "stdout"
        }
      ]
    },
    {
      "cell_type": "code",
      "metadata": {
        "colab": {
          "base_uri": "https://localhost:8080/"
        },
        "id": "pN3y0F-3KkkK",
        "outputId": "80e5b8d7-a654-4874-fba6-f98a4bfa017b"
      },
      "source": [
        "print(randInt(min=50))"
      ],
      "execution_count": 247,
      "outputs": [
        {
          "output_type": "stream",
          "text": [
            "96\n"
          ],
          "name": "stdout"
        }
      ]
    },
    {
      "cell_type": "code",
      "metadata": {
        "colab": {
          "base_uri": "https://localhost:8080/"
        },
        "id": "-PXiRf54KrI2",
        "outputId": "d972271c-2d39-4b36-ea48-929e25800164"
      },
      "source": [
        "print(randInt(min=50, max=500))"
      ],
      "execution_count": 257,
      "outputs": [
        {
          "output_type": "stream",
          "text": [
            "56\n"
          ],
          "name": "stdout"
        }
      ]
    }
  ]
}