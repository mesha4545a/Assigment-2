{
  "nbformat": 4,
  "nbformat_minor": 0,
  "metadata": {
    "colab": {
      "name": "loop2.ipynb",
      "provenance": [],
      "authorship_tag": "ABX9TyNOkogOQ5rOTu1ObPgL4cGW",
      "include_colab_link": true
    },
    "kernelspec": {
      "name": "python3",
      "display_name": "Python 3"
    }
  },
  "cells": [
    {
      "cell_type": "markdown",
      "metadata": {
        "id": "view-in-github",
        "colab_type": "text"
      },
      "source": [
        "<a href=\"https://colab.research.google.com/github/mesha4545a/Assigment-2/blob/master/loop2.ipynb\" target=\"_parent\"><img src=\"https://colab.research.google.com/assets/colab-badge.svg\" alt=\"Open In Colab\"/></a>"
      ]
    },
    {
      "cell_type": "code",
      "metadata": {
        "colab": {
          "base_uri": "https://localhost:8080/"
        },
        "id": "NLHICNFNXnDE",
        "outputId": "0e3527d8-2881-4954-a7af-b18d84f6eb53"
      },
      "source": [
        "def biggie_size (list):\r\n",
        "  for i in range(len(list)):\r\n",
        "    if list[i] >  0:\r\n",
        "      list[i] = 'big'\r\n",
        "  return list \r\n",
        "biggie_size([-1, 3, 5, -5]) \r\n"
      ],
      "execution_count": 2,
      "outputs": [
        {
          "output_type": "execute_result",
          "data": {
            "text/plain": [
              "[-1, 'big', 'big', -5]"
            ]
          },
          "metadata": {
            "tags": []
          },
          "execution_count": 2
        }
      ]
    },
    {
      "cell_type": "code",
      "metadata": {
        "colab": {
          "base_uri": "https://localhost:8080/"
        },
        "id": "By5-dbJgYjnd",
        "outputId": "e8ce4937-0745-4152-968f-453bd99ea1b3"
      },
      "source": [
        "def count_positives (list):\r\n",
        "  count = 0\r\n",
        "  for i in range(len(list)):\r\n",
        "    if list[i] > 0:\r\n",
        "      count+=1\r\n",
        "  list[(len(list)-1)] = count\r\n",
        "  return list\r\n",
        "count_positives([1,6,-4,-2,-7,-2])\r\n"
      ],
      "execution_count": 29,
      "outputs": [
        {
          "output_type": "execute_result",
          "data": {
            "text/plain": [
              "[1, 6, -4, -2, -7, 2]"
            ]
          },
          "metadata": {
            "tags": []
          },
          "execution_count": 29
        }
      ]
    },
    {
      "cell_type": "code",
      "metadata": {
        "colab": {
          "base_uri": "https://localhost:8080/"
        },
        "id": "2D0V2rIycNsi",
        "outputId": "dd5d596f-cce4-40ec-a31d-0999ca160fa5"
      },
      "source": [
        "def sum_total (list):\r\n",
        "  sum = 0\r\n",
        "  for i in range(len(list)):\r\n",
        "    sum = sum + list[i]\r\n",
        "  return sum\r\n",
        "sum_total([6,3,-2])"
      ],
      "execution_count": 31,
      "outputs": [
        {
          "output_type": "execute_result",
          "data": {
            "text/plain": [
              "7"
            ]
          },
          "metadata": {
            "tags": []
          },
          "execution_count": 31
        }
      ]
    },
    {
      "cell_type": "code",
      "metadata": {
        "colab": {
          "base_uri": "https://localhost:8080/"
        },
        "id": "qR9z6KB0ecSO",
        "outputId": "acc5c5d4-47b2-4f35-bbb0-5db416a19656"
      },
      "source": [
        "def average (list):\r\n",
        "  sum = 0\r\n",
        "  num_val = len(list)\r\n",
        "  avg = 0\r\n",
        "  for i in range(len(list)):\r\n",
        "    sum = sum + list[i]\r\n",
        "  avg = sum / num_val \r\n",
        "  return avg\r\n",
        "average([1,2,3,4])\r\n"
      ],
      "execution_count": 37,
      "outputs": [
        {
          "output_type": "execute_result",
          "data": {
            "text/plain": [
              "2.5"
            ]
          },
          "metadata": {
            "tags": []
          },
          "execution_count": 37
        }
      ]
    },
    {
      "cell_type": "code",
      "metadata": {
        "colab": {
          "base_uri": "https://localhost:8080/"
        },
        "id": "8uO5jmrWhee7",
        "outputId": "7d8d65ad-b722-4b4c-ce78-87b774223a93"
      },
      "source": [
        "def length (list):\r\n",
        "  count = 0\r\n",
        "  for i in list :\r\n",
        "     count+=1\r\n",
        "  return count \r\n",
        " \r\n",
        "length([37,2,1,-9])"
      ],
      "execution_count": 94,
      "outputs": [
        {
          "output_type": "execute_result",
          "data": {
            "text/plain": [
              "4"
            ]
          },
          "metadata": {
            "tags": []
          },
          "execution_count": 94
        }
      ]
    },
    {
      "cell_type": "code",
      "metadata": {
        "colab": {
          "base_uri": "https://localhost:8080/"
        },
        "id": "_ia9iMzRoxye",
        "outputId": "fe03f4d3-888d-4ca0-e589-3c0e80bade84"
      },
      "source": [
        "def minimum (list):\r\n",
        "  \r\n",
        "  if len(list) == 0:\r\n",
        "    return False\r\n",
        "  else:\r\n",
        "    min = list[0]\r\n",
        "    for i in range(len(list)):\r\n",
        "      if min > list[i]:\r\n",
        "        min = list[i]\r\n",
        "        \r\n",
        "    return min\r\n",
        "   \r\n",
        "minimum([37,2,1,-9])"
      ],
      "execution_count": 143,
      "outputs": [
        {
          "output_type": "execute_result",
          "data": {
            "text/plain": [
              "-9"
            ]
          },
          "metadata": {
            "tags": []
          },
          "execution_count": 143
        }
      ]
    },
    {
      "cell_type": "code",
      "metadata": {
        "colab": {
          "base_uri": "https://localhost:8080/"
        },
        "id": "5NCGUP8jwWkE",
        "outputId": "ce6c8649-4c63-4502-e2b9-caa45f6b77f3"
      },
      "source": [
        "def  maximum (list):\r\n",
        "  \r\n",
        "  if len(list) == 0:\r\n",
        "    return False\r\n",
        "  else:\r\n",
        "    max = list[0]\r\n",
        "    for i in range(len(list)):\r\n",
        "      if max < list[i]:\r\n",
        "        max = list[i]\r\n",
        "        \r\n",
        "    return max\r\n",
        "   \r\n",
        "maximum([37,2,1,-9])"
      ],
      "execution_count": 146,
      "outputs": [
        {
          "output_type": "execute_result",
          "data": {
            "text/plain": [
              "37"
            ]
          },
          "metadata": {
            "tags": []
          },
          "execution_count": 146
        }
      ]
    }
  ]
}