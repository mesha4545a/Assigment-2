{
  "nbformat": 4,
  "nbformat_minor": 0,
  "metadata": {
    "colab": {
      "name": "Untitled0.ipynb",
      "provenance": [],
      "authorship_tag": "ABX9TyNXO/yXzMyhJmj1ZqsvqqPx",
      "include_colab_link": true
    },
    "kernelspec": {
      "name": "python3",
      "display_name": "Python 3"
    }
  },
  "cells": [
    {
      "cell_type": "markdown",
      "metadata": {
        "id": "view-in-github",
        "colab_type": "text"
      },
      "source": [
        "<a href=\"https://colab.research.google.com/github/mesha4545a/Assigment-2/blob/master/Untitled0.ipynb\" target=\"_parent\"><img src=\"https://colab.research.google.com/assets/colab-badge.svg\" alt=\"Open In Colab\"/></a>"
      ]
    },
    {
      "cell_type": "markdown",
      "metadata": {
        "id": "jYA1cZ0nt04v"
      },
      "source": [
        "```\r\n",
        "#1\r\n",
        "def a():\r\n",
        "    return 5\r\n",
        "print(a()) \r\n",
        "```\r\n",
        "outpot \\\r\n",
        "5"
      ]
    },
    {
      "cell_type": "code",
      "metadata": {
        "colab": {
          "base_uri": "https://localhost:8080/"
        },
        "id": "6_4ogSKSuUW9",
        "outputId": "0af41838-c8b9-4af4-aa30-1fded5bb89f2"
      },
      "source": [
        "#1\r\n",
        "def a():\r\n",
        "    return 5\r\n",
        "print(a())\r\n"
      ],
      "execution_count": 1,
      "outputs": [
        {
          "output_type": "stream",
          "text": [
            "5\n"
          ],
          "name": "stdout"
        }
      ]
    },
    {
      "cell_type": "markdown",
      "metadata": {
        "id": "rZwkhtNtuZjb"
      },
      "source": [
        "``` \r\n",
        "#2\r\n",
        "def a():\r\n",
        "    return 5\r\n",
        "print(a()+a())\r\n",
        "```\r\n",
        "outpot \\\r\n",
        "10"
      ]
    },
    {
      "cell_type": "code",
      "metadata": {
        "colab": {
          "base_uri": "https://localhost:8080/"
        },
        "id": "1erdTkPFur1X",
        "outputId": "344b0310-7e89-4e6c-e2b7-00bee7b7e369"
      },
      "source": [
        "#2\r\n",
        "def a():\r\n",
        "    return 5\r\n",
        "print(a()+a())\r\n"
      ],
      "execution_count": 2,
      "outputs": [
        {
          "output_type": "stream",
          "text": [
            "10\n"
          ],
          "name": "stdout"
        }
      ]
    },
    {
      "cell_type": "markdown",
      "metadata": {
        "id": "sM0ZPVBLuuDO"
      },
      "source": [
        "```\r\n",
        "#3\r\n",
        "def a():\r\n",
        "    return 5\r\n",
        "    return 10\r\n",
        "print(a())\r\n",
        "```\r\n",
        "outpot \\\r\n",
        "5\r\n"
      ]
    },
    {
      "cell_type": "code",
      "metadata": {
        "colab": {
          "base_uri": "https://localhost:8080/"
        },
        "id": "YozJqQqcvIRE",
        "outputId": "41ceb307-c969-49e7-d290-7fcc269f6d3a"
      },
      "source": [
        "#3\r\n",
        "def a():\r\n",
        "    return 5\r\n",
        "    return 10\r\n",
        "print(a())\r\n"
      ],
      "execution_count": 3,
      "outputs": [
        {
          "output_type": "stream",
          "text": [
            "5\n"
          ],
          "name": "stdout"
        }
      ]
    },
    {
      "cell_type": "markdown",
      "metadata": {
        "id": "triZZ7dLvLSw"
      },
      "source": [
        "```\r\n",
        "#4\r\n",
        "def a():\r\n",
        "    return 5\r\n",
        "    print(10)\r\n",
        "print(a())\r\n",
        "```\r\n",
        "outpot \\\r\n",
        "10 \\\r\n",
        "5"
      ]
    },
    {
      "cell_type": "code",
      "metadata": {
        "colab": {
          "base_uri": "https://localhost:8080/"
        },
        "id": "fowVa0yivkgm",
        "outputId": "08b49c67-2b7f-4505-cc2a-bca7eb647542"
      },
      "source": [
        "#4\r\n",
        "def a():\r\n",
        "    return 5\r\n",
        "    print(10)\r\n",
        "    \r\n",
        "print(a())\r\n",
        "# the preduction did not match the outpot when return apper the function dont see what after\r\n"
      ],
      "execution_count": 7,
      "outputs": [
        {
          "output_type": "stream",
          "text": [
            "5\n"
          ],
          "name": "stdout"
        }
      ]
    },
    {
      "cell_type": "markdown",
      "metadata": {
        "id": "G641RU-Fvxb1"
      },
      "source": [
        "```\r\n",
        "#5\r\n",
        "def a():\r\n",
        "    print(5)\r\n",
        "x = a()\r\n",
        "print(x)\r\n",
        "```\r\n",
        "outpot \\\r\n",
        "5 \\\r\n",
        "error\r\n"
      ]
    },
    {
      "cell_type": "code",
      "metadata": {
        "colab": {
          "base_uri": "https://localhost:8080/"
        },
        "id": "vRZBo3MwwbYt",
        "outputId": "b2b637b0-4690-41ba-d9cf-d50bf75fa38d"
      },
      "source": [
        "#5\r\n",
        "def a():\r\n",
        "    print(5)\r\n",
        "x = a()\r\n",
        "print(x)\r\n",
        "# the perduction did not match with the outpot if the function have nothing to return it print none\r\n"
      ],
      "execution_count": 8,
      "outputs": [
        {
          "output_type": "stream",
          "text": [
            "5\n",
            "None\n"
          ],
          "name": "stdout"
        }
      ]
    },
    {
      "cell_type": "markdown",
      "metadata": {
        "id": "MdDq8GD1w9ty"
      },
      "source": [
        "```\r\n",
        "#6\r\n",
        "def a(b,c):\r\n",
        "    print(b+c)\r\n",
        "print(a(1,2) + a(2,3))\r\n",
        "```\r\n",
        "outpot \\\r\n",
        "none or error"
      ]
    },
    {
      "cell_type": "code",
      "metadata": {
        "colab": {
          "base_uri": "https://localhost:8080/",
          "height": 231
        },
        "id": "jIJgMlQ1xRzn",
        "outputId": "ae1e2182-5fe2-4670-9590-676bd07a789c"
      },
      "source": [
        "#6\r\n",
        "def a(b,c):\r\n",
        "    print(b+c)\r\n",
        "print(a(1,2) + a(2,3))\r\n"
      ],
      "execution_count": 9,
      "outputs": [
        {
          "output_type": "stream",
          "text": [
            "3\n",
            "5\n"
          ],
          "name": "stdout"
        },
        {
          "output_type": "error",
          "ename": "TypeError",
          "evalue": "ignored",
          "traceback": [
            "\u001b[0;31m---------------------------------------------------------------------------\u001b[0m",
            "\u001b[0;31mTypeError\u001b[0m                                 Traceback (most recent call last)",
            "\u001b[0;32m<ipython-input-9-c5f8fce73963>\u001b[0m in \u001b[0;36m<module>\u001b[0;34m()\u001b[0m\n\u001b[1;32m      2\u001b[0m \u001b[0;32mdef\u001b[0m \u001b[0ma\u001b[0m\u001b[0;34m(\u001b[0m\u001b[0mb\u001b[0m\u001b[0;34m,\u001b[0m\u001b[0mc\u001b[0m\u001b[0;34m)\u001b[0m\u001b[0;34m:\u001b[0m\u001b[0;34m\u001b[0m\u001b[0;34m\u001b[0m\u001b[0m\n\u001b[1;32m      3\u001b[0m     \u001b[0mprint\u001b[0m\u001b[0;34m(\u001b[0m\u001b[0mb\u001b[0m\u001b[0;34m+\u001b[0m\u001b[0mc\u001b[0m\u001b[0;34m)\u001b[0m\u001b[0;34m\u001b[0m\u001b[0;34m\u001b[0m\u001b[0m\n\u001b[0;32m----> 4\u001b[0;31m \u001b[0mprint\u001b[0m\u001b[0;34m(\u001b[0m\u001b[0ma\u001b[0m\u001b[0;34m(\u001b[0m\u001b[0;36m1\u001b[0m\u001b[0;34m,\u001b[0m\u001b[0;36m2\u001b[0m\u001b[0;34m)\u001b[0m \u001b[0;34m+\u001b[0m \u001b[0ma\u001b[0m\u001b[0;34m(\u001b[0m\u001b[0;36m2\u001b[0m\u001b[0;34m,\u001b[0m\u001b[0;36m3\u001b[0m\u001b[0;34m)\u001b[0m\u001b[0;34m)\u001b[0m\u001b[0;34m\u001b[0m\u001b[0;34m\u001b[0m\u001b[0m\n\u001b[0m",
            "\u001b[0;31mTypeError\u001b[0m: unsupported operand type(s) for +: 'NoneType' and 'NoneType'"
          ]
        }
      ]
    },
    {
      "cell_type": "markdown",
      "metadata": {
        "id": "v-SAoQjcxgaE"
      },
      "source": [
        "```\r\n",
        "#7\r\n",
        "def a(b,c):\r\n",
        "    return str(b)+str(c)\r\n",
        "print(a(2,5))\r\n",
        "```\r\n",
        "outpot \\\r\n",
        "25\r\n"
      ]
    },
    {
      "cell_type": "code",
      "metadata": {
        "colab": {
          "base_uri": "https://localhost:8080/"
        },
        "id": "FB_Yvie4yWvo",
        "outputId": "b1e4b2af-bbf8-42ca-b68c-492f5314f07c"
      },
      "source": [
        "#7\r\n",
        "def a(b,c):\r\n",
        "    return str(b)+str(c)\r\n",
        "print(a(2,5))\r\n"
      ],
      "execution_count": 10,
      "outputs": [
        {
          "output_type": "stream",
          "text": [
            "25\n"
          ],
          "name": "stdout"
        }
      ]
    },
    {
      "cell_type": "markdown",
      "metadata": {
        "id": "KyJHenqcyZHc"
      },
      "source": [
        "```\r\n",
        "#8\r\n",
        "def a():\r\n",
        "    b = 100\r\n",
        "    print(b)\r\n",
        "    if b < 10:\r\n",
        "        return 5\r\n",
        "    else:\r\n",
        "        return 10\r\n",
        "    return 7\r\n",
        "print(a())\r\n",
        "\r\n",
        "```\r\n",
        "outpot \\\r\n",
        "100 \\\r\n",
        "10"
      ]
    },
    {
      "cell_type": "code",
      "metadata": {
        "colab": {
          "base_uri": "https://localhost:8080/",
          "height": 129
        },
        "id": "06QLO3tlyzM7",
        "outputId": "1ea61e6a-e257-4013-ee5d-39c44c613154"
      },
      "source": [
        "#8\r\n",
        "def a():\r\n",
        "    b = 100\r\n",
        "    print(b)\r\n",
        "    if b < 10:\r\n",
        "        return 5\r\n",
        "    else:\r\n",
        "        return 10\r\n",
        "    return 7\r\n",
        "print(a())\r\n",
        "\r\n",
        "# the perduction did not match with the outpot not sure why "
      ],
      "execution_count": 23,
      "outputs": [
        {
          "output_type": "error",
          "ename": "SyntaxError",
          "evalue": "ignored",
          "traceback": [
            "\u001b[0;36m  File \u001b[0;32m\"<ipython-input-23-6966645c69d5>\"\u001b[0;36m, line \u001b[0;32m7\u001b[0m\n\u001b[0;31m    else:\u001b[0m\n\u001b[0m       ^\u001b[0m\n\u001b[0;31mSyntaxError\u001b[0m\u001b[0;31m:\u001b[0m invalid character in identifier\n"
          ]
        }
      ]
    },
    {
      "cell_type": "markdown",
      "metadata": {
        "id": "3arsGCBA1f5-"
      },
      "source": [
        "```\r\n",
        "#9\r\n",
        "def a(b,c):\r\n",
        "    if b<c:\r\n",
        "        return 7\r\n",
        "    else:\r\n",
        "        return 14\r\n",
        "    return 3\r\n",
        "print(a(2,3))\r\n",
        "print(a(5,3))\r\n",
        "print(a(2,3) + a(5,3))\r\n",
        "```\r\n",
        "outpot \\\r\n",
        "7 \\\r\n",
        "14 \\\r\n",
        "21\r\n"
      ]
    },
    {
      "cell_type": "code",
      "metadata": {
        "colab": {
          "base_uri": "https://localhost:8080/"
        },
        "id": "CBXuMKAB1xJy",
        "outputId": "b51bc8d5-97c0-4e70-db9a-567f9965ebfa"
      },
      "source": [
        "#9\r\n",
        "def a(b,c):\r\n",
        "    if b<c:\r\n",
        "        return 7\r\n",
        "    else:\r\n",
        "        return 14\r\n",
        "    return 3\r\n",
        "print(a(2,3))\r\n",
        "print(a(5,3))\r\n",
        "print(a(2,3) + a(5,3))\r\n"
      ],
      "execution_count": 24,
      "outputs": [
        {
          "output_type": "stream",
          "text": [
            "7\n",
            "14\n",
            "21\n"
          ],
          "name": "stdout"
        }
      ]
    },
    {
      "cell_type": "markdown",
      "metadata": {
        "id": "Ay07EIFb1_cY"
      },
      "source": [
        "```\r\n",
        "#10\r\n",
        "def a(b,c):\r\n",
        "    return b+c\r\n",
        "    return 10\r\n",
        "print(a(3,5))\r\n",
        "```\r\n",
        "outpot \\\r\n",
        "8"
      ]
    },
    {
      "cell_type": "code",
      "metadata": {
        "colab": {
          "base_uri": "https://localhost:8080/"
        },
        "id": "by-djRas2S75",
        "outputId": "bab9cb1f-c3a3-4ca4-ddec-2e3de2123c79"
      },
      "source": [
        "#10\r\n",
        "def a(b,c):\r\n",
        "    return b+c\r\n",
        "    return 10\r\n",
        "print(a(3,5))\r\n"
      ],
      "execution_count": 25,
      "outputs": [
        {
          "output_type": "stream",
          "text": [
            "8\n"
          ],
          "name": "stdout"
        }
      ]
    },
    {
      "cell_type": "markdown",
      "metadata": {
        "id": "9obFNBtQ2Ur9"
      },
      "source": [
        "```\r\n",
        "#11\r\n",
        "b = 500\r\n",
        "print(b)\r\n",
        "def a():\r\n",
        "    b = 300\r\n",
        "    print(b)\r\n",
        "print(b)\r\n",
        "a()\r\n",
        "print(b)\r\n",
        "```\r\n",
        "outpot \\\r\n",
        "500 \\\r\n",
        "500 \\\r\n",
        "300 \\\r\n",
        "500 \r\n",
        "\r\n"
      ]
    },
    {
      "cell_type": "code",
      "metadata": {
        "colab": {
          "base_uri": "https://localhost:8080/"
        },
        "id": "jWIqBD6R22I5",
        "outputId": "e5d9af29-e6c5-4099-84e1-d83cb1d73159"
      },
      "source": [
        "#11\r\n",
        "b = 500\r\n",
        "print(b)\r\n",
        "def a():\r\n",
        "    b = 300\r\n",
        "    print(b)\r\n",
        "print(b)\r\n",
        "a()\r\n",
        "print(b)\r\n"
      ],
      "execution_count": 26,
      "outputs": [
        {
          "output_type": "stream",
          "text": [
            "500\n",
            "500\n",
            "300\n",
            "500\n"
          ],
          "name": "stdout"
        }
      ]
    },
    {
      "cell_type": "markdown",
      "metadata": {
        "id": "gHNb4C8W3A7r"
      },
      "source": [
        "```\r\n",
        "#12\r\n",
        "b = 500\r\n",
        "print(b)\r\n",
        "def a():\r\n",
        "    b = 300\r\n",
        "    print(b)\r\n",
        "    return b\r\n",
        "print(b)\r\n",
        "a()\r\n",
        "print(b)\r\n",
        "```\r\n",
        "outpot \\\r\n",
        "500 \\\r\n",
        "500 \\\r\n",
        "300 \\\r\n",
        "300"
      ]
    },
    {
      "cell_type": "code",
      "metadata": {
        "colab": {
          "base_uri": "https://localhost:8080/"
        },
        "id": "FNs7hg5J3kLw",
        "outputId": "56f8ad33-6195-4f8f-ac61-74ccd85ef354"
      },
      "source": [
        "#12\r\n",
        "b = 500\r\n",
        "print(b)\r\n",
        "def a():\r\n",
        "    b = 300\r\n",
        "    print(b)\r\n",
        "    return b\r\n",
        "print(b)\r\n",
        "a()\r\n",
        "print(b)\r\n"
      ],
      "execution_count": 27,
      "outputs": [
        {
          "output_type": "stream",
          "text": [
            "500\n",
            "500\n",
            "300\n",
            "500\n"
          ],
          "name": "stdout"
        }
      ]
    },
    {
      "cell_type": "markdown",
      "metadata": {
        "id": "dbBUbd9o3pHo"
      },
      "source": [
        "```\r\n",
        "#13\r\n",
        "b = 500\r\n",
        "print(b)\r\n",
        "def a():\r\n",
        "    b = 300\r\n",
        "    print(b)\r\n",
        "    return b\r\n",
        "print(b)\r\n",
        "b=a()\r\n",
        "print(b)\r\n",
        "```\r\n",
        "outpot \\\r\n",
        "500 \\\r\n",
        "500 \\\r\n",
        "300 \\\r\n",
        "300\r\n"
      ]
    },
    {
      "cell_type": "code",
      "metadata": {
        "colab": {
          "base_uri": "https://localhost:8080/"
        },
        "id": "yj_KIeHi4Iuw",
        "outputId": "f2cdc17f-9d2d-47d3-9373-547501b37227"
      },
      "source": [
        "#13\r\n",
        "b = 500\r\n",
        "print(b)\r\n",
        "def a():\r\n",
        "    b = 300\r\n",
        "    print(b)\r\n",
        "    return b\r\n",
        "print(b)\r\n",
        "b=a()\r\n",
        "print(b)\r\n"
      ],
      "execution_count": 28,
      "outputs": [
        {
          "output_type": "stream",
          "text": [
            "500\n",
            "500\n",
            "300\n",
            "300\n"
          ],
          "name": "stdout"
        }
      ]
    },
    {
      "cell_type": "markdown",
      "metadata": {
        "id": "UufXTuc74NUg"
      },
      "source": [
        "```\r\n",
        "#14\r\n",
        "def a():\r\n",
        "    print(1)\r\n",
        "    b()\r\n",
        "    print(2)\r\n",
        "def b():\r\n",
        "    print(3)\r\n",
        "a()\r\n",
        "```\r\n",
        "outpot \\\r\n",
        "1 \\\r\n",
        "3 \\\r\n",
        "2 "
      ]
    },
    {
      "cell_type": "code",
      "metadata": {
        "colab": {
          "base_uri": "https://localhost:8080/"
        },
        "id": "Q0xbrKR14nHo",
        "outputId": "8be1b6e8-d852-4f9b-fdac-f63a889368d6"
      },
      "source": [
        "#14\r\n",
        "def a():\r\n",
        "    print(1)\r\n",
        "    b()\r\n",
        "    print(2)\r\n",
        "def b():\r\n",
        "    print(3)\r\n",
        "a()\r\n"
      ],
      "execution_count": 29,
      "outputs": [
        {
          "output_type": "stream",
          "text": [
            "1\n",
            "3\n",
            "2\n"
          ],
          "name": "stdout"
        }
      ]
    },
    {
      "cell_type": "markdown",
      "metadata": {
        "id": "DCu4V4ua4pYL"
      },
      "source": [
        "```\r\n",
        "#15\r\n",
        "def a():\r\n",
        "    print(1)\r\n",
        "    x = b()\r\n",
        "    print(x)\r\n",
        "    return 10\r\n",
        "def b():\r\n",
        "    print(3)\r\n",
        "    return 5\r\n",
        "y = a()\r\n",
        "print(y)\r\n",
        "```\r\n",
        "outpot \\\r\n",
        "1 \\\r\n",
        "3 \\\r\n",
        "5  \\\r\n",
        "10 "
      ]
    },
    {
      "cell_type": "code",
      "metadata": {
        "colab": {
          "base_uri": "https://localhost:8080/"
        },
        "id": "1rEOKiKD5AHj",
        "outputId": "cc6917be-41aa-46dd-c1ad-08eb9db09c50"
      },
      "source": [
        "#15\r\n",
        "def a():\r\n",
        "    print(1)\r\n",
        "    x = b()\r\n",
        "    print(x)\r\n",
        "    return 10\r\n",
        "def b():\r\n",
        "    print(3)\r\n",
        "    return 5\r\n",
        "y = a()\r\n",
        "print(y)\r\n"
      ],
      "execution_count": 30,
      "outputs": [
        {
          "output_type": "stream",
          "text": [
            "1\n",
            "3\n",
            "5\n",
            "10\n"
          ],
          "name": "stdout"
        }
      ]
    }
  ]
}