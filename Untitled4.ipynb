{
  "nbformat": 4,
  "nbformat_minor": 0,
  "metadata": {
    "colab": {
      "name": "Untitled4.ipynb",
      "provenance": [],
      "authorship_tag": "ABX9TyONLior4JHvSkZhO64CE+Rf",
      "include_colab_link": true
    },
    "kernelspec": {
      "name": "python3",
      "display_name": "Python 3"
    }
  },
  "cells": [
    {
      "cell_type": "markdown",
      "metadata": {
        "id": "view-in-github",
        "colab_type": "text"
      },
      "source": [
        "<a href=\"https://colab.research.google.com/github/mesha4545a/Assigment-2/blob/master/Untitled4.ipynb\" target=\"_parent\"><img src=\"https://colab.research.google.com/assets/colab-badge.svg\" alt=\"Open In Colab\"/></a>"
      ]
    },
    {
      "cell_type": "code",
      "metadata": {
        "colab": {
          "base_uri": "https://localhost:8080/"
        },
        "id": "Kf6AfFJ7nY8C",
        "outputId": "9010bc10-869f-49b6-8add-eb2eafbdddcc"
      },
      "source": [
        "def   ultimate_analysis (list):\r\n",
        "  sum = 0\r\n",
        "  avg = 0\r\n",
        "  min = list[0]\r\n",
        "  max = list[0]\r\n",
        "  count = 0\r\n",
        "  for i in range(len(list)):\r\n",
        "    sum = sum + list[i]\r\n",
        "    avg = sum/len(list)\r\n",
        "    count = count+1\r\n",
        "    if min > list[i]:\r\n",
        "        min = list[i]\r\n",
        "    elif max < list[i]:\r\n",
        "         max = list[i]\r\n",
        "    result = result ={'sumTotal': sum , 'average': avg, 'minimum': min ,  'maximum': max,'length': count}\r\n",
        "  return result\r\n",
        "  \r\n",
        "  \r\n",
        "\r\n",
        "   \r\n",
        "  \r\n",
        "  \r\n",
        "        \r\n",
        "ultimate_analysis([37,2,1,-9])"
      ],
      "execution_count": 48,
      "outputs": [
        {
          "output_type": "execute_result",
          "data": {
            "text/plain": [
              "{'average': 7.75, 'length': 4, 'maximum': 37, 'minimum': -9, 'sumTotal': 31}"
            ]
          },
          "metadata": {
            "tags": []
          },
          "execution_count": 48
        }
      ]
    },
    {
      "cell_type": "code",
      "metadata": {
        "colab": {
          "base_uri": "https://localhost:8080/"
        },
        "id": "hAW0VYhmuFNs",
        "outputId": "c020078d-620c-49fe-b528-3b4bf597a2f9"
      },
      "source": [
        "def  reverse_list (list):\r\n",
        "  new_list = []\r\n",
        "  for i in range(len(list)):\r\n",
        "      rev_index = len(list) -1\r\n",
        "      new_list.append(list[rev_index])\r\n",
        "      list.pop()\r\n",
        "  return new_list\r\n",
        "\r\n",
        "\r\n",
        "reverse_list([37,2,1,-9])"
      ],
      "execution_count": 88,
      "outputs": [
        {
          "output_type": "execute_result",
          "data": {
            "text/plain": [
              "[-9, 1, 2, 37]"
            ]
          },
          "metadata": {
            "tags": []
          },
          "execution_count": 88
        }
      ]
    }
  ]
}