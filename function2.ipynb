{
  "nbformat": 4,
  "nbformat_minor": 0,
  "metadata": {
    "colab": {
      "name": "function2.ipynb",
      "provenance": [],
      "authorship_tag": "ABX9TyPtZu5KFjjhmI2qk7nbAxJk",
      "include_colab_link": true
    },
    "kernelspec": {
      "name": "python3",
      "display_name": "Python 3"
    }
  },
  "cells": [
    {
      "cell_type": "markdown",
      "metadata": {
        "id": "view-in-github",
        "colab_type": "text"
      },
      "source": [
        "<a href=\"https://colab.research.google.com/github/mesha4545a/Assigment-2/blob/master/function2.ipynb\" target=\"_parent\"><img src=\"https://colab.research.google.com/assets/colab-badge.svg\" alt=\"Open In Colab\"/></a>"
      ]
    },
    {
      "cell_type": "code",
      "metadata": {
        "id": "R9MSDgeTM4P3"
      },
      "source": [
        "x = [ [5,2,3], [10,8,9] ] \r\n",
        "students = [\r\n",
        "     {'first_name':  'Michael', 'last_name' : 'Jordan'},\r\n",
        "     {'first_name' : 'John', 'last_name' : 'Rosales'}\r\n",
        "]\r\n",
        "sports_directory = {\r\n",
        "    'basketball' : ['Kobe', 'Jordan', 'James', 'Curry'],\r\n",
        "    'soccer' : ['Messi', 'Ronaldo', 'Rooney']\r\n",
        "}\r\n",
        "z = [ {'x': 10, 'y': 20} ]\r\n"
      ],
      "execution_count": 16,
      "outputs": []
    },
    {
      "cell_type": "code",
      "metadata": {
        "colab": {
          "base_uri": "https://localhost:8080/"
        },
        "id": "268jkm3WOB-f",
        "outputId": "bc1469ca-7b18-4cb6-e4c8-131aa7f3d2e1"
      },
      "source": [
        "x[1][0] = 15\r\n",
        "print(x)"
      ],
      "execution_count": 11,
      "outputs": [
        {
          "output_type": "stream",
          "text": [
            "[[5, 2, 3], [15, 8, 9]]\n"
          ],
          "name": "stdout"
        }
      ]
    },
    {
      "cell_type": "code",
      "metadata": {
        "colab": {
          "base_uri": "https://localhost:8080/"
        },
        "id": "tNvTc7b7OFLq",
        "outputId": "cd568cf7-f5b8-4150-d5f4-a3b96ead1238"
      },
      "source": [
        "students[0][\"last_name\"] = \"'Bryant\"\r\n",
        "print(students)"
      ],
      "execution_count": 17,
      "outputs": [
        {
          "output_type": "stream",
          "text": [
            "[{'first_name': 'Michael', 'last_name': \"'Bryant\"}, {'first_name': 'John', 'last_name': 'Rosales'}]\n"
          ],
          "name": "stdout"
        }
      ]
    },
    {
      "cell_type": "code",
      "metadata": {
        "colab": {
          "base_uri": "https://localhost:8080/"
        },
        "id": "fn4DNf5JPm2B",
        "outputId": "caa68f59-263c-46f1-a482-d3af278d8380"
      },
      "source": [
        "sports_directory['soccer'][0] = \"Andres\"\r\n",
        "print(sports_directory)\r\n"
      ],
      "execution_count": 20,
      "outputs": [
        {
          "output_type": "stream",
          "text": [
            "{'basketball': ['Kobe', 'Jordan', 'James', 'Curry'], 'soccer': ['Andres', 'Ronaldo', 'Rooney']}\n"
          ],
          "name": "stdout"
        }
      ]
    },
    {
      "cell_type": "code",
      "metadata": {
        "colab": {
          "base_uri": "https://localhost:8080/"
        },
        "id": "-I4a8uoHP6od",
        "outputId": "333c555c-6c2b-44f0-c8e0-0ca39e7bd91a"
      },
      "source": [
        "z[0][\"y\"] = 30\r\n",
        "print(z)"
      ],
      "execution_count": 27,
      "outputs": [
        {
          "output_type": "stream",
          "text": [
            "[{'x': 10, 'y': 30}]\n"
          ],
          "name": "stdout"
        }
      ]
    },
    {
      "cell_type": "code",
      "metadata": {
        "colab": {
          "base_uri": "https://localhost:8080/"
        },
        "id": "sic8su6pQzP_",
        "outputId": "6f3746ee-86a0-4072-d839-e4f4b3c421c9"
      },
      "source": [
        "students = [\r\n",
        "         {'first_name':  'Michael', 'last_name' : 'Jordan'},\r\n",
        "         {'first_name' : 'John', 'last_name' : 'Rosales'},\r\n",
        "         {'first_name' : 'Mark', 'last_name' : 'Guillen'},\r\n",
        "         {'first_name' : 'KB', 'last_name' : 'Tonel'}\r\n",
        "    ]\r\n",
        "\r\n",
        "for i in range(len(students)):\r\n",
        "  first = students[i]['first_name']\r\n",
        "  last = students[i]['last_name']\r\n",
        "\r\n",
        "  print(\"frist_name- \" + first +\",\" +\" last_name- \" + last)\r\n"
      ],
      "execution_count": 62,
      "outputs": [
        {
          "output_type": "stream",
          "text": [
            "frist_name- Michael, last_name- Jordan\n",
            "frist_name- John, last_name- Rosales\n",
            "frist_name- Mark, last_name- Guillen\n",
            "frist_name- KB, last_name- Tonel\n"
          ],
          "name": "stdout"
        }
      ]
    },
    {
      "cell_type": "code",
      "metadata": {
        "colab": {
          "base_uri": "https://localhost:8080/"
        },
        "id": "XdZbtzz0UxnT",
        "outputId": "ddf57fb6-d743-4316-8bf9-fe0c7768ce4e"
      },
      "source": [
        " def iterateDictionary2 (key_name, some_list):\r\n",
        "   for i in range(len(students)):\r\n",
        "     out = students[i][key_name]\r\n",
        "     print(out)\r\n",
        " \r\n",
        "iterateDictionary2('last_name', students)\r\n"
      ],
      "execution_count": 71,
      "outputs": [
        {
          "output_type": "stream",
          "text": [
            "Jordan\n",
            "Rosales\n",
            "Guillen\n",
            "Tonel\n"
          ],
          "name": "stdout"
        }
      ]
    },
    {
      "cell_type": "code",
      "metadata": {
        "colab": {
          "base_uri": "https://localhost:8080/"
        },
        "id": "RK6QHzIZWt8N",
        "outputId": "b1f31c1e-010e-4aa7-8889-57b353463014"
      },
      "source": [
        "dojo = {\r\n",
        "   'locations': ['San Jose', 'Seattle', 'Dallas', 'Chicago', 'Tulsa', 'DC', 'Burbank'],\r\n",
        "   'instructors': ['Michael', 'Amy', 'Eduardo', 'Josh', 'Graham', 'Patrick', 'Minh', 'Devon']\r\n",
        "}\r\n",
        "\r\n",
        "def printInfo(dojo):\r\n",
        "  \r\n",
        "  for i in dojo:\r\n",
        "    print(i , len(dojo[i]))\r\n",
        "    for j in dojo[i]:\r\n",
        "      print(j)\r\n",
        "    print(\"\")\r\n",
        "    \r\n",
        "    \r\n",
        "  \r\n",
        "          \r\n",
        "    \r\n",
        "\r\n",
        "\r\n",
        "  \r\n",
        "printInfo(dojo)"
      ],
      "execution_count": 291,
      "outputs": [
        {
          "output_type": "stream",
          "text": [
            "locations 7\n",
            "San Jose\n",
            "Seattle\n",
            "Dallas\n",
            "Chicago\n",
            "Tulsa\n",
            "DC\n",
            "Burbank\n",
            "\n",
            "instructors 8\n",
            "Michael\n",
            "Amy\n",
            "Eduardo\n",
            "Josh\n",
            "Graham\n",
            "Patrick\n",
            "Minh\n",
            "Devon\n",
            "\n"
          ],
          "name": "stdout"
        }
      ]
    }
  ]
}