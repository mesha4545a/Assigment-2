{
  "nbformat": 4,
  "nbformat_minor": 0,
  "metadata": {
    "colab": {
      "name": "function2.ipynb",
      "provenance": [],
      "authorship_tag": "ABX9TyNpmEL7dmEFo52QseHDdfiH",
      "include_colab_link": true
    },
    "kernelspec": {
      "name": "python3",
      "display_name": "Python 3"
    }
  },
  "cells": [
    {
      "cell_type": "markdown",
      "metadata": {
        "id": "view-in-github",
        "colab_type": "text"
      },
      "source": [
        "<a href=\"https://colab.research.google.com/github/mesha4545a/Assigment-2/blob/master/function2.ipynb\" target=\"_parent\"><img src=\"https://colab.research.google.com/assets/colab-badge.svg\" alt=\"Open In Colab\"/></a>"
      ]
    },
    {
      "cell_type": "code",
      "metadata": {
        "colab": {
          "base_uri": "https://localhost:8080/"
        },
        "id": "YFAQtrm9EIfd",
        "outputId": "3aa88b27-1c6e-4556-f2b2-35625f06a50e"
      },
      "source": [
        "def coutdown (num):\r\n",
        "  list = []\r\n",
        "  for i in range(num,-1,-1):\r\n",
        "    list.append(i)\r\n",
        "  return list\r\n",
        "   \r\n",
        "   \r\n",
        "coutdown (5)"
      ],
      "execution_count": 45,
      "outputs": [
        {
          "output_type": "execute_result",
          "data": {
            "text/plain": [
              "[5, 4, 3, 2, 1, 0]"
            ]
          },
          "metadata": {
            "tags": []
          },
          "execution_count": 45
        }
      ]
    },
    {
      "cell_type": "code",
      "metadata": {
        "colab": {
          "base_uri": "https://localhost:8080/"
        },
        "id": "R2V06RnkFs3B",
        "outputId": "b8e665c7-5179-4855-c3ae-345142bfa235"
      },
      "source": [
        "def  print_and_return (num1, num2):\r\n",
        "  print(f\"this is print {num1}\")\r\n",
        "  return num2\r\n",
        "  \r\n",
        "\r\n",
        "print_and_return(1,3)"
      ],
      "execution_count": 23,
      "outputs": [
        {
          "output_type": "stream",
          "text": [
            "this is print 1\n"
          ],
          "name": "stdout"
        },
        {
          "output_type": "execute_result",
          "data": {
            "text/plain": [
              "3"
            ]
          },
          "metadata": {
            "tags": []
          },
          "execution_count": 23
        }
      ]
    },
    {
      "cell_type": "code",
      "metadata": {
        "colab": {
          "base_uri": "https://localhost:8080/"
        },
        "id": "28i8TjPGHHa9",
        "outputId": "3a7e413a-1ff8-4d5e-de6a-2f4a7f3f1862"
      },
      "source": [
        "def  first_plus_length (list):\r\n",
        "    return list[0]+len(list)\r\n",
        "list = [1,2,3,4,5]\r\n",
        "first_plus_length(list)"
      ],
      "execution_count": 24,
      "outputs": [
        {
          "output_type": "execute_result",
          "data": {
            "text/plain": [
              "6"
            ]
          },
          "metadata": {
            "tags": []
          },
          "execution_count": 24
        }
      ]
    },
    {
      "cell_type": "code",
      "metadata": {
        "colab": {
          "base_uri": "https://localhost:8080/"
        },
        "id": "YOg-MlOyLB3-",
        "outputId": "d33c094e-ed07-49ab-91ee-f29cf651adb0"
      },
      "source": [
        "def length_and_value (size, value):\r\n",
        "  list = []\r\n",
        "  for i in range(size):\r\n",
        "    list.append(value)\r\n",
        "  return list\r\n",
        "length_and_value (4, 7)\r\n",
        "\r\n"
      ],
      "execution_count": 44,
      "outputs": [
        {
          "output_type": "execute_result",
          "data": {
            "text/plain": [
              "[7, 7, 7, 7]"
            ]
          },
          "metadata": {
            "tags": []
          },
          "execution_count": 44
        }
      ]
    },
    {
      "cell_type": "code",
      "metadata": {
        "colab": {
          "base_uri": "https://localhost:8080/"
        },
        "id": "UoPAqLC6O6tV",
        "outputId": "39d71b54-775d-4956-e60c-6a8cd66b6bd7"
      },
      "source": [
        "def values_greater_than_second (list):\r\n",
        "  new_list = []\r\n",
        "  if len(list) < 2:\r\n",
        "    return False\r\n",
        "  else:\r\n",
        "    for i in range(len(list)):\r\n",
        "      if list[i] > list[1]: \r\n",
        "          new_list.append(list[i])\r\n",
        "\r\n",
        "    return new_list\r\n",
        "      \r\n",
        "         \r\n",
        "a=[5,2,3,2,1,4]\r\n",
        "values_greater_than_second (a)\r\n"
      ],
      "execution_count": 85,
      "outputs": [
        {
          "output_type": "execute_result",
          "data": {
            "text/plain": [
              "[5, 3, 4]"
            ]
          },
          "metadata": {
            "tags": []
          },
          "execution_count": 85
        }
      ]
    },
    {
      "cell_type": "code",
      "metadata": {
        "colab": {
          "base_uri": "https://localhost:8080/"
        },
        "id": "BsKxCO4mRySV",
        "outputId": "be130bbd-5aaf-4a9c-9bef-0b9486d625bc"
      },
      "source": [
        "list = [1,2,3]\r\n",
        "list[1]"
      ],
      "execution_count": 49,
      "outputs": [
        {
          "output_type": "execute_result",
          "data": {
            "text/plain": [
              "2"
            ]
          },
          "metadata": {
            "tags": []
          },
          "execution_count": 49
        }
      ]
    }
  ]
}