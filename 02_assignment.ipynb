{
  "nbformat": 4,
  "nbformat_minor": 0,
  "metadata": {
    "colab": {
      "name": " 02_assignment.ipynb",
      "provenance": [],
      "include_colab_link": true
    },
    "kernelspec": {
      "name": "python3",
      "display_name": "Python 3"
    }
  },
  "cells": [
    {
      "cell_type": "markdown",
      "metadata": {
        "id": "view-in-github",
        "colab_type": "text"
      },
      "source": [
        "<a href=\"https://colab.research.google.com/github/mesha4545a/Assigment-2/blob/master/02_assignment.ipynb\" target=\"_parent\"><img src=\"https://colab.research.google.com/assets/colab-badge.svg\" alt=\"Open In Colab\"/></a>"
      ]
    },
    {
      "cell_type": "markdown",
      "metadata": {
        "id": "UvXvsdh1UViv"
      },
      "source": [
        "1. Read in the dataset from the below link with pandas..."
      ]
    },
    {
      "cell_type": "code",
      "metadata": {
        "id": "xHi7ek_dURBw"
      },
      "source": [
        "import pandas as pd\r\n",
        "\r\n",
        "link = \"https://raw.githubusercontent.com/gumdropsteve/datasets/master/dog_or_horse.csv\"\r\n",
        "df = pd.read_csv(link)\r\n"
      ],
      "execution_count": null,
      "outputs": []
    },
    {
      "cell_type": "markdown",
      "metadata": {
        "id": "zK5QLawkUbGO"
      },
      "source": [
        "2. Show me some of the data..."
      ]
    },
    {
      "cell_type": "code",
      "metadata": {
        "id": "-D-9M-1CUhD9",
        "colab": {
          "base_uri": "https://localhost:8080/",
          "height": 197
        },
        "outputId": "42c34a78-b28b-4a4b-d61b-f4f84e5f3779"
      },
      "source": [
        "df.sample(5)"
      ],
      "execution_count": null,
      "outputs": [
        {
          "output_type": "execute_result",
          "data": {
            "text/html": [
              "<div>\n",
              "<style scoped>\n",
              "    .dataframe tbody tr th:only-of-type {\n",
              "        vertical-align: middle;\n",
              "    }\n",
              "\n",
              "    .dataframe tbody tr th {\n",
              "        vertical-align: top;\n",
              "    }\n",
              "\n",
              "    .dataframe thead th {\n",
              "        text-align: right;\n",
              "    }\n",
              "</style>\n",
              "<table border=\"1\" class=\"dataframe\">\n",
              "  <thead>\n",
              "    <tr style=\"text-align: right;\">\n",
              "      <th></th>\n",
              "      <th>height</th>\n",
              "      <th>weight</th>\n",
              "      <th>target</th>\n",
              "      <th>type</th>\n",
              "    </tr>\n",
              "  </thead>\n",
              "  <tbody>\n",
              "    <tr>\n",
              "      <th>152</th>\n",
              "      <td>45.0</td>\n",
              "      <td>154.0</td>\n",
              "      <td>1.0</td>\n",
              "      <td>horse</td>\n",
              "    </tr>\n",
              "    <tr>\n",
              "      <th>77</th>\n",
              "      <td>32.0</td>\n",
              "      <td>66.0</td>\n",
              "      <td>0.0</td>\n",
              "      <td>dog</td>\n",
              "    </tr>\n",
              "    <tr>\n",
              "      <th>59</th>\n",
              "      <td>25.0</td>\n",
              "      <td>87.0</td>\n",
              "      <td>0.0</td>\n",
              "      <td>dog</td>\n",
              "    </tr>\n",
              "    <tr>\n",
              "      <th>137</th>\n",
              "      <td>61.0</td>\n",
              "      <td>113.0</td>\n",
              "      <td>1.0</td>\n",
              "      <td>horse</td>\n",
              "    </tr>\n",
              "    <tr>\n",
              "      <th>193</th>\n",
              "      <td>80.0</td>\n",
              "      <td>158.0</td>\n",
              "      <td>1.0</td>\n",
              "      <td>horse</td>\n",
              "    </tr>\n",
              "  </tbody>\n",
              "</table>\n",
              "</div>"
            ],
            "text/plain": [
              "     height  weight  target   type\n",
              "152    45.0   154.0     1.0  horse\n",
              "77     32.0    66.0     0.0    dog\n",
              "59     25.0    87.0     0.0    dog\n",
              "137    61.0   113.0     1.0  horse\n",
              "193    80.0   158.0     1.0  horse"
            ]
          },
          "metadata": {
            "tags": []
          },
          "execution_count": 3
        }
      ]
    },
    {
      "cell_type": "code",
      "metadata": {
        "id": "gv96u_cvXjna",
        "colab": {
          "base_uri": "https://localhost:8080/",
          "height": 197
        },
        "outputId": "05b05f42-fb95-4705-f358-158505d494d1"
      },
      "source": [
        "df.head()"
      ],
      "execution_count": null,
      "outputs": [
        {
          "output_type": "execute_result",
          "data": {
            "text/html": [
              "<div>\n",
              "<style scoped>\n",
              "    .dataframe tbody tr th:only-of-type {\n",
              "        vertical-align: middle;\n",
              "    }\n",
              "\n",
              "    .dataframe tbody tr th {\n",
              "        vertical-align: top;\n",
              "    }\n",
              "\n",
              "    .dataframe thead th {\n",
              "        text-align: right;\n",
              "    }\n",
              "</style>\n",
              "<table border=\"1\" class=\"dataframe\">\n",
              "  <thead>\n",
              "    <tr style=\"text-align: right;\">\n",
              "      <th></th>\n",
              "      <th>height</th>\n",
              "      <th>weight</th>\n",
              "      <th>target</th>\n",
              "      <th>type</th>\n",
              "    </tr>\n",
              "  </thead>\n",
              "  <tbody>\n",
              "    <tr>\n",
              "      <th>0</th>\n",
              "      <td>27.0</td>\n",
              "      <td>71.0</td>\n",
              "      <td>0.0</td>\n",
              "      <td>dog</td>\n",
              "    </tr>\n",
              "    <tr>\n",
              "      <th>1</th>\n",
              "      <td>27.0</td>\n",
              "      <td>92.0</td>\n",
              "      <td>0.0</td>\n",
              "      <td>dog</td>\n",
              "    </tr>\n",
              "    <tr>\n",
              "      <th>2</th>\n",
              "      <td>32.0</td>\n",
              "      <td>47.0</td>\n",
              "      <td>0.0</td>\n",
              "      <td>dog</td>\n",
              "    </tr>\n",
              "    <tr>\n",
              "      <th>3</th>\n",
              "      <td>30.0</td>\n",
              "      <td>90.0</td>\n",
              "      <td>0.0</td>\n",
              "      <td>dog</td>\n",
              "    </tr>\n",
              "    <tr>\n",
              "      <th>4</th>\n",
              "      <td>28.0</td>\n",
              "      <td>91.0</td>\n",
              "      <td>0.0</td>\n",
              "      <td>dog</td>\n",
              "    </tr>\n",
              "  </tbody>\n",
              "</table>\n",
              "</div>"
            ],
            "text/plain": [
              "   height  weight  target type\n",
              "0    27.0    71.0     0.0  dog\n",
              "1    27.0    92.0     0.0  dog\n",
              "2    32.0    47.0     0.0  dog\n",
              "3    30.0    90.0     0.0  dog\n",
              "4    28.0    91.0     0.0  dog"
            ]
          },
          "metadata": {
            "tags": []
          },
          "execution_count": 4
        }
      ]
    },
    {
      "cell_type": "markdown",
      "metadata": {
        "id": "p5ypbPmpUhsJ"
      },
      "source": [
        "3. Split the data into training and testing sets ([Help](https://scikit-learn.org/stable/modules/generated/sklearn.model_selection.train_test_split.html))"
      ]
    },
    {
      "cell_type": "code",
      "metadata": {
        "id": "kq-_ChbeUwgb"
      },
      "source": [
        "from sklearn.model_selection import train_test_split\r\n",
        "# variables that help us predict the target (y)\r\n",
        "X = df[['height', 'weight', 'target']]\r\n",
        "# y is whatever you want to predict ('target', 'labels', etc...)\r\n",
        "y = df.target\r\n",
        "\r\n",
        "X_train, X_test, y_train, y_test = train_test_split(X, y, train_size=0.7)"
      ],
      "execution_count": null,
      "outputs": []
    },
    {
      "cell_type": "markdown",
      "metadata": {
        "id": "QT8_kZqKU4aR"
      },
      "source": [
        "4. Make and fit a simple logistic regression model... (you shouldn't need to change anything here)"
      ]
    },
    {
      "cell_type": "code",
      "metadata": {
        "id": "l4ppAUIjVA2T",
        "colab": {
          "base_uri": "https://localhost:8080/"
        },
        "outputId": "091e0ee5-7b60-4ca0-9aed-1342494563bb"
      },
      "source": [
        "from sklearn.linear_model import LogisticRegression\r\n",
        "\r\n",
        "model = LogisticRegression()\r\n",
        "\r\n",
        "model.fit(X_train, y_train)"
      ],
      "execution_count": null,
      "outputs": [
        {
          "output_type": "execute_result",
          "data": {
            "text/plain": [
              "LogisticRegression(C=1.0, class_weight=None, dual=False, fit_intercept=True,\n",
              "                   intercept_scaling=1, l1_ratio=None, max_iter=100,\n",
              "                   multi_class='auto', n_jobs=None, penalty='l2',\n",
              "                   random_state=None, solver='lbfgs', tol=0.0001, verbose=0,\n",
              "                   warm_start=False)"
            ]
          },
          "metadata": {
            "tags": []
          },
          "execution_count": 57
        }
      ]
    },
    {
      "cell_type": "markdown",
      "metadata": {
        "id": "0K31MqISVkFL"
      },
      "source": [
        "5. Make some predictions..."
      ]
    },
    {
      "cell_type": "code",
      "metadata": {
        "id": "jVjd90f0VZbG",
        "colab": {
          "base_uri": "https://localhost:8080/"
        },
        "outputId": "11fcf849-3fc0-47cd-a56f-c90c5c5fa149"
      },
      "source": [
        "model.predict(X_test)"
      ],
      "execution_count": null,
      "outputs": [
        {
          "output_type": "execute_result",
          "data": {
            "text/plain": [
              "array([0., 0., 1., 1., 0., 1., 0., 1., 0., 1., 0., 0., 1., 0., 1., 1., 0.,\n",
              "       1., 1., 1., 0., 1., 1., 0., 0., 1., 0., 0., 1., 0., 0., 1., 0., 1.,\n",
              "       1., 0., 0., 0., 1., 1., 1., 1., 1., 0., 1., 1., 1., 1., 0., 1., 0.,\n",
              "       0., 1., 0., 1., 1., 0., 1., 1., 1.])"
            ]
          },
          "metadata": {
            "tags": []
          },
          "execution_count": 58
        }
      ]
    },
    {
      "cell_type": "code",
      "metadata": {
        "id": "T7jnK-6qVqTb"
      },
      "source": [
        "# save them as variable `preds`\r\n",
        "preds = model.predict(X_test)\r\n"
      ],
      "execution_count": null,
      "outputs": []
    },
    {
      "cell_type": "markdown",
      "metadata": {
        "id": "9UaABA0uV2F9"
      },
      "source": [
        "6. What's the precision of the model? (Hint: Google 'sklearn precision')"
      ]
    },
    {
      "cell_type": "code",
      "metadata": {
        "id": "yPAVz57YV7Gh",
        "colab": {
          "base_uri": "https://localhost:8080/"
        },
        "outputId": "0a7b71e6-4f7a-46db-93be-cf747558d534"
      },
      "source": [
        "from sklearn.metrics import precision_score\r\n",
        "y_true = y_test\r\n",
        "y_pred = preds\r\n",
        "precision_score(y_true, y_pred, average='weighted')\r\n"
      ],
      "execution_count": null,
      "outputs": [
        {
          "output_type": "execute_result",
          "data": {
            "text/plain": [
              "0.983974358974359"
            ]
          },
          "metadata": {
            "tags": []
          },
          "execution_count": 60
        }
      ]
    },
    {
      "cell_type": "markdown",
      "metadata": {
        "id": "h9324OB2WCo7"
      },
      "source": [
        "7. What's the recall of the model?"
      ]
    },
    {
      "cell_type": "code",
      "metadata": {
        "id": "5CsuKBsPWE22",
        "colab": {
          "base_uri": "https://localhost:8080/"
        },
        "outputId": "7c028bcf-787d-490a-8e61-797c9e2f18ad"
      },
      "source": [
        "from sklearn.metrics import precision_recall_fscore_support\r\n",
        "precision_recall_fscore_support(y_true, y_pred, average='weighted')"
      ],
      "execution_count": null,
      "outputs": [
        {
          "output_type": "execute_result",
          "data": {
            "text/plain": [
              "(0.983974358974359, 0.9833333333333333, 0.9833759590792839, None)"
            ]
          },
          "metadata": {
            "tags": []
          },
          "execution_count": 61
        }
      ]
    },
    {
      "cell_type": "markdown",
      "metadata": {
        "id": "WZOP7aLEWIIn"
      },
      "source": [
        "8. What's the mean sqared error of the model?"
      ]
    },
    {
      "cell_type": "code",
      "metadata": {
        "id": "eYK7TWeDWLek",
        "colab": {
          "base_uri": "https://localhost:8080/"
        },
        "outputId": "d3cbd39d-7a30-4f4c-80b9-523bacb46239"
      },
      "source": [
        " from sklearn.metrics import mean_squared_error\r\n",
        " mean_squared_error(y_true, y_pred)"
      ],
      "execution_count": null,
      "outputs": [
        {
          "output_type": "execute_result",
          "data": {
            "text/plain": [
              "0.016666666666666666"
            ]
          },
          "metadata": {
            "tags": []
          },
          "execution_count": 62
        }
      ]
    },
    {
      "cell_type": "markdown",
      "metadata": {
        "id": "14spFvU2WMdy"
      },
      "source": [
        "9. Run 2 different cross validations with different scoring parameters ([Help](https://scikit-learn.org/stable/modules/model_evaluation.html#scoring-parameter))\r\n",
        "\r\n",
        "Note: we're doing classification"
      ]
    },
    {
      "cell_type": "code",
      "metadata": {
        "id": "SQyj3rIQWdjz",
        "colab": {
          "base_uri": "https://localhost:8080/"
        },
        "outputId": "b1171e74-4b1f-4df1-8473-ff69d0121e47"
      },
      "source": [
        "from sklearn.metrics import accuracy_score\r\n",
        "accuracy_score(y_true, y_pred)"
      ],
      "execution_count": null,
      "outputs": [
        {
          "output_type": "execute_result",
          "data": {
            "text/plain": [
              "0.9833333333333333"
            ]
          },
          "metadata": {
            "tags": []
          },
          "execution_count": 63
        }
      ]
    },
    {
      "cell_type": "code",
      "metadata": {
        "id": "L70ZHecxYAD9",
        "colab": {
          "base_uri": "https://localhost:8080/"
        },
        "outputId": "49ae1150-72f5-4b3d-e58d-57a175d0e825"
      },
      "source": [
        "from sklearn.metrics import f1_score\r\n",
        "f1_score(y_true, y_pred, average='weighted')"
      ],
      "execution_count": null,
      "outputs": [
        {
          "output_type": "execute_result",
          "data": {
            "text/plain": [
              "0.9833759590792839"
            ]
          },
          "metadata": {
            "tags": []
          },
          "execution_count": 64
        }
      ]
    },
    {
      "cell_type": "markdown",
      "metadata": {
        "id": "nMAKaWPHWsx0"
      },
      "source": [
        "10. (Bonus) Throw it into a GridSearchCV... (any amount of parameters you want to test out).. of whatever you tested, what are the best parameters?\r\n",
        "\r\n",
        "Note: You can find the possible parameters to adjust in the [LogisticRegression docs](https://scikit-learn.org/stable/modules/generated/sklearn.linear_model.LogisticRegression.html)"
      ]
    },
    {
      "cell_type": "code",
      "metadata": {
        "id": "2ifacFVWW34p"
      },
      "source": [
        "from sklearn.pipeline import make_pipeline\r\n",
        "from sklearn.linear_model import LinearRegression\r\n",
        "\r\n",
        "def LR(**kwargs):\r\n",
        "    return make_pipeline(LogisticRegression(**kwargs))"
      ],
      "execution_count": null,
      "outputs": []
    },
    {
      "cell_type": "code",
      "metadata": {
        "id": "7I5fHEVkXVdf"
      },
      "source": [
        "from sklearn.model_selection import GridSearchCV\r\n",
        "param_grid={ 'logisticregression__fit_intercept': [True,False]}\r\n",
        "\r\n",
        "\r\n",
        "grid = GridSearchCV(LR(), param_grid, cv=7)\r\n"
      ],
      "execution_count": null,
      "outputs": []
    },
    {
      "cell_type": "code",
      "metadata": {
        "id": "4w2NYnGy0uHr"
      },
      "source": [
        "from sklearn.model_selection import train_test_split\r\n",
        "df = pd.read_csv(link)\r\n",
        "# variables that help us predict the target (y)\r\n",
        "X = df[['height', 'weight', 'target']]\r\n",
        "# y is whatever you want to predict ('target', 'labels', etc...)\r\n",
        "y = df.target\r\n"
      ],
      "execution_count": null,
      "outputs": []
    },
    {
      "cell_type": "code",
      "metadata": {
        "id": "2aQxI2lOXYwU",
        "colab": {
          "base_uri": "https://localhost:8080/"
        },
        "outputId": "77f3df0b-6f13-4d1c-f506-159c1739b919"
      },
      "source": [
        "# fit the grid\r\n",
        "grid.fit(X, y)\r\n"
      ],
      "execution_count": null,
      "outputs": [
        {
          "output_type": "execute_result",
          "data": {
            "text/plain": [
              "GridSearchCV(cv=7, error_score=nan,\n",
              "             estimator=Pipeline(memory=None,\n",
              "                                steps=[('logisticregression',\n",
              "                                        LogisticRegression(C=1.0,\n",
              "                                                           class_weight=None,\n",
              "                                                           dual=False,\n",
              "                                                           fit_intercept=True,\n",
              "                                                           intercept_scaling=1,\n",
              "                                                           l1_ratio=None,\n",
              "                                                           max_iter=100,\n",
              "                                                           multi_class='auto',\n",
              "                                                           n_jobs=None,\n",
              "                                                           penalty='l2',\n",
              "                                                           random_state=None,\n",
              "                                                           solver='lbfgs',\n",
              "                                                           tol=0.0001,\n",
              "                                                           verbose=0,\n",
              "                                                           warm_start=False))],\n",
              "                                verbose=False),\n",
              "             iid='deprecated', n_jobs=None,\n",
              "             param_grid={'logisticregression__fit_intercept': [True, False]},\n",
              "             pre_dispatch='2*n_jobs', refit=True, return_train_score=False,\n",
              "             scoring=None, verbose=0)"
            ]
          },
          "metadata": {
            "tags": []
          },
          "execution_count": 161
        }
      ]
    },
    {
      "cell_type": "code",
      "metadata": {
        "id": "3M86xiSjXbRq",
        "colab": {
          "base_uri": "https://localhost:8080/"
        },
        "outputId": "256beca3-1bff-4d38-a1b9-1a117786122c"
      },
      "source": [
        "# show me the best params\r\n",
        "grid.best_params_"
      ],
      "execution_count": null,
      "outputs": [
        {
          "output_type": "execute_result",
          "data": {
            "text/plain": [
              "{'logisticregression__fit_intercept': False}"
            ]
          },
          "metadata": {
            "tags": []
          },
          "execution_count": 162
        }
      ]
    },
    {
      "cell_type": "markdown",
      "metadata": {
        "id": "QgyiTHEHYcIr"
      },
      "source": [
        "11. (Bonus Bonus) What's your best r2_score?"
      ]
    },
    {
      "cell_type": "code",
      "metadata": {
        "id": "owe9u6fXYWPN",
        "colab": {
          "base_uri": "https://localhost:8080/"
        },
        "outputId": "78a3d302-700a-4a1c-e7ec-7380a1022daf"
      },
      "source": [
        "from sklearn.metrics import r2_score\r\n",
        "\r\n",
        "r2_score(y_true=y_test, y_pred=preds)"
      ],
      "execution_count": null,
      "outputs": [
        {
          "output_type": "execute_result",
          "data": {
            "text/plain": [
              "0.9314285714285715"
            ]
          },
          "metadata": {
            "tags": []
          },
          "execution_count": 163
        }
      ]
    }
  ]
}