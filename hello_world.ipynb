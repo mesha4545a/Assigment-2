{
  "nbformat": 4,
  "nbformat_minor": 0,
  "metadata": {
    "colab": {
      "name": "hello_world.ipynb",
      "provenance": [],
      "authorship_tag": "ABX9TyMi5A30v3b9YKAzKeTj4xAB",
      "include_colab_link": true
    },
    "kernelspec": {
      "name": "python3",
      "display_name": "Python 3"
    }
  },
  "cells": [
    {
      "cell_type": "markdown",
      "metadata": {
        "id": "view-in-github",
        "colab_type": "text"
      },
      "source": [
        "<a href=\"https://colab.research.google.com/github/mesha4545a/Assigment-2/blob/master/hello_world.ipynb\" target=\"_parent\"><img src=\"https://colab.research.google.com/assets/colab-badge.svg\" alt=\"Open In Colab\"/></a>"
      ]
    },
    {
      "cell_type": "code",
      "metadata": {
        "colab": {
          "base_uri": "https://localhost:8080/"
        },
        "id": "l0V1OTrXGg_j",
        "outputId": "a44c29ed-3970-4682-f567-89452be58ffc"
      },
      "source": [
        "a = \"hello world\"\r\n",
        "\r\n",
        "print(\"hello world\")\r\n",
        "print(a)"
      ],
      "execution_count": 10,
      "outputs": [
        {
          "output_type": "stream",
          "text": [
            "hello world\n",
            "hello world\n"
          ],
          "name": "stdout"
        }
      ]
    },
    {
      "cell_type": "code",
      "metadata": {
        "colab": {
          "base_uri": "https://localhost:8080/"
        },
        "id": "p2H5StwMHnXr",
        "outputId": "1a37288a-a58a-4de4-b75b-f7199b7184ef"
      },
      "source": [
        "name = \"shaima\"\r\n",
        "print(f\"hello {name}\")\r\n",
        "print(\"hello\", name)"
      ],
      "execution_count": 5,
      "outputs": [
        {
          "output_type": "stream",
          "text": [
            "hello shaima\n",
            "hello shaima\n"
          ],
          "name": "stdout"
        }
      ]
    },
    {
      "cell_type": "code",
      "metadata": {
        "colab": {
          "base_uri": "https://localhost:8080/"
        },
        "id": "JYZSoSFgILIM",
        "outputId": "19122092-31dd-4ce7-c1a7-358f5701d683"
      },
      "source": [
        "name = \"shaima\"\r\n",
        "print(\"hello \"+ name)"
      ],
      "execution_count": 9,
      "outputs": [
        {
          "output_type": "stream",
          "text": [
            "hello shaima\n"
          ],
          "name": "stdout"
        }
      ]
    },
    {
      "cell_type": "code",
      "metadata": {
        "colab": {
          "base_uri": "https://localhost:8080/"
        },
        "id": "ukF0FmxCIqvq",
        "outputId": "6cfea00f-c5e5-4b1d-9451-8b2fc8cf8e67"
      },
      "source": [
        "num = 5\r\n",
        "print (\"hello\",num)"
      ],
      "execution_count": 7,
      "outputs": [
        {
          "output_type": "stream",
          "text": [
            "hello 5\n"
          ],
          "name": "stdout"
        }
      ]
    },
    {
      "cell_type": "code",
      "metadata": {
        "colab": {
          "base_uri": "https://localhost:8080/",
          "height": 180
        },
        "id": "djLdr2oGJbNo",
        "outputId": "d45ca30a-06a1-40f3-c5e9-a918f7b6f96b"
      },
      "source": [
        "num = 5\r\n",
        "print(\"hello \"+ num)\r\n"
      ],
      "execution_count": 11,
      "outputs": [
        {
          "output_type": "error",
          "ename": "TypeError",
          "evalue": "ignored",
          "traceback": [
            "\u001b[0;31m---------------------------------------------------------------------------\u001b[0m",
            "\u001b[0;31mTypeError\u001b[0m                                 Traceback (most recent call last)",
            "\u001b[0;32m<ipython-input-11-e33c99bbbcf2>\u001b[0m in \u001b[0;36m<module>\u001b[0;34m()\u001b[0m\n\u001b[1;32m      1\u001b[0m \u001b[0mnum\u001b[0m \u001b[0;34m=\u001b[0m \u001b[0;36m5\u001b[0m\u001b[0;34m\u001b[0m\u001b[0;34m\u001b[0m\u001b[0m\n\u001b[0;32m----> 2\u001b[0;31m \u001b[0mprint\u001b[0m\u001b[0;34m(\u001b[0m\u001b[0;34m\"hello \"\u001b[0m\u001b[0;34m+\u001b[0m\u001b[0mnum\u001b[0m\u001b[0;34m)\u001b[0m\u001b[0;34m\u001b[0m\u001b[0;34m\u001b[0m\u001b[0m\n\u001b[0m",
            "\u001b[0;31mTypeError\u001b[0m: must be str, not int"
          ]
        }
      ]
    },
    {
      "cell_type": "code",
      "metadata": {
        "colab": {
          "base_uri": "https://localhost:8080/"
        },
        "id": "PDA-VHufJ001",
        "outputId": "6223f166-389b-476f-b5c6-2c93565b7633"
      },
      "source": [
        "fav_food1 = \"rice\"\r\n",
        "fav_food2 = \" chickens\"\r\n",
        "print(\"I love to eat {} and {}.\" .format(fav_food1, fav_food2))"
      ],
      "execution_count": 16,
      "outputs": [
        {
          "output_type": "stream",
          "text": [
            "I love to eat rice and  chickens.\n"
          ],
          "name": "stdout"
        }
      ]
    },
    {
      "cell_type": "code",
      "metadata": {
        "colab": {
          "base_uri": "https://localhost:8080/"
        },
        "id": "GNdKeBQXKjqS",
        "outputId": "48635e23-9586-4519-fdd0-1246dedb924f"
      },
      "source": [
        "fav_food1 = \"rice\"\r\n",
        "fav_food2 = \" chickens\"\r\n",
        "print(f\"I love to eat {fav_food1} and {fav_food2}.\")"
      ],
      "execution_count": 17,
      "outputs": [
        {
          "output_type": "stream",
          "text": [
            "I love to eat rice and  chickens.\n"
          ],
          "name": "stdout"
        }
      ]
    },
    {
      "cell_type": "code",
      "metadata": {
        "colab": {
          "base_uri": "https://localhost:8080/"
        },
        "id": "RFr1zKl0L8C4",
        "outputId": "ca346828-fa48-4a98-90e0-210debf8c94d"
      },
      "source": [
        "lol = \"lol that funny\"\r\n",
        "print(lol.upper())\r\n",
        "print(f\"I love to eat {fav_food1} and {fav_food2}.\". upper())\r\n"
      ],
      "execution_count": 23,
      "outputs": [
        {
          "output_type": "stream",
          "text": [
            "LOL THAT FUNNY\n",
            "I LOVE TO EAT RICE AND  CHICKENS.\n"
          ],
          "name": "stdout"
        }
      ]
    },
    {
      "cell_type": "code",
      "metadata": {
        "colab": {
          "base_uri": "https://localhost:8080/"
        },
        "id": "AZh-I-H8MSZ1",
        "outputId": "b2fddeca-debc-4e2d-c250-e9c44145df0a"
      },
      "source": [
        "lol = \"lol that funny\"\r\n",
        "print(lol.title())\r\n",
        "print(f\"I love to eat {fav_food1} and {fav_food2}.\". title())\r\n"
      ],
      "execution_count": 25,
      "outputs": [
        {
          "output_type": "stream",
          "text": [
            "Lol That Funny\n",
            "I Love To Eat Rice And  Chickens.\n"
          ],
          "name": "stdout"
        }
      ]
    }
  ]
}